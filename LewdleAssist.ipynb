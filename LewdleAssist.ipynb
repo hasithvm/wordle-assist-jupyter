{
 "cells": [
  {
   "cell_type": "markdown",
   "id": "703014a0",
   "metadata": {},
   "source": [
    "# WordleAssist"
   ]
  },
  {
   "cell_type": "code",
   "execution_count": 1,
   "id": "8c11ebb4",
   "metadata": {},
   "outputs": [],
   "source": [
    "# imports\n",
    "import re\n",
    "from urllib import request\n",
    "from dataclasses import dataclass, field\n",
    "import requests\n",
    "try:\n",
    "  import wordfreq as wf\n",
    "except:\n",
    "  wf = None\n",
    "finally:\n",
    "  use_wordfreqs = wf is not None"
   ]
  },
  {
   "cell_type": "code",
   "execution_count": 17,
   "id": "7403e319",
   "metadata": {},
   "outputs": [],
   "source": [
    "# setup\n",
    "url = \"https://raw.githubusercontent.com/hasithvm/urbandictionary-termlist/master/low.txt\"\n",
    "s = \"\"\n",
    "words = []\n",
    "with requests.get(url, stream=True) as r:\n",
    "    for line in r.iter_lines():\n",
    "        word = line.decode(\"utf-8\")\n",
    "        if (re.match(\"^[a-z]{5}$\", word)):\n",
    "            words.append(word)"
   ]
  },
  {
   "cell_type": "markdown",
   "id": "9f91f0ed",
   "metadata": {},
   "source": [
    "Test format string\n",
    "- Underscores are unknown characters\n",
    "- Use lower case chars for right letter + wrong position (yellow)\n",
    "- Use upper case for right letter in the right position (green)\n",
    "- Characters after the pipe (|) character are incorrect guesses (grey)"
   ]
  },
  {
   "cell_type": "code",
   "execution_count": 11,
   "id": "8f229317",
   "metadata": {},
   "outputs": [],
   "source": [
    "@dataclass\n",
    "class CompositeMatch:\n",
    "    CorrectMatch: str = None\n",
    "    PartialMatches: set = field(default_factory=set)\n",
    "    def __repr__(self):\n",
    "        return f\"CM: {self.CorrectMatch}, PM: {''.join([c for c in self.PartialMatches])}\"\n",
    "    \n",
    "    \n",
    "    \n",
    "# build a regex\n",
    "def build_regex_v2(inputs, exclude):\n",
    "    partial_pattern_chars = []\n",
    "    pattern = '^'\n",
    "    for m in inputs:\n",
    "        partial_pattern_chars.extend(m.PartialMatches)\n",
    "    print(partial_pattern_chars)\n",
    "    partial_pattern_chars = list(set(partial_pattern_chars))\n",
    "    for c in partial_pattern_chars:\n",
    "        pattern += (f\"(?=.*[{c}])\")\n",
    "        \n",
    "    for i in range(5):\n",
    "        m = inputs[i]\n",
    "        # this can't be an excluded character or a correct character\n",
    "        if m.CorrectMatch is not None:\n",
    "            pattern += m.CorrectMatch.lower()\n",
    "            continue\n",
    "        elif len(m.PartialMatches) > 0:\n",
    "            pattern += f\"[^{''.join(list(m.PartialMatches)) + ''.join(exclude)}]\"\n",
    "            continue\n",
    "        else:\n",
    "            pattern += f\"[^{''.join(exclude)}]\"\n",
    "    return pattern\n",
    "\n",
    "\n",
    "# inputs are a list of attempts in the same format as above\n",
    "# \"<CORRECT-LETTER><partial-match>____|<unused-letters>\"\n",
    "#\n",
    "# test the pattern with the v2 gen\n",
    "def test_v2(*args, limit = 25):\n",
    "    \n",
    "    compositematches = []\n",
    "    excludechars = set()\n",
    "    for arg in args:\n",
    "        step_cm = []\n",
    "        partial_pattern, exclude = arg.split('|')\n",
    "        \n",
    "        for c in partial_pattern:\n",
    "            cm = CompositeMatch()\n",
    "            if c >= 'A' and c<= 'Z':\n",
    "                cm.CorrectMatch = c\n",
    "            elif c >= 'a' and c <= 'z':\n",
    "                cm.PartialMatches.add(c)\n",
    "            step_cm.append(cm)\n",
    "        compositematches.append(step_cm)\n",
    "        \n",
    "        for c in exclude:\n",
    "            excludechars.add(c)\n",
    "   \n",
    "    final_matches = [CompositeMatch() for x in range(5)]\n",
    "    for match in compositematches:\n",
    "        for i in range(5):\n",
    "            if match[i].CorrectMatch is not None:\n",
    "                final_matches[i].CorrectMatch = match[i].CorrectMatch\n",
    "            final_matches[i].PartialMatches.update(match[i].PartialMatches)\n",
    "            \n",
    "    regex = build_regex_v2(final_matches, excludechars)\n",
    "    \n",
    "    known_letters = set([f.CorrectMatch for f in final_matches if f.CorrectMatch is not None])\n",
    "    matching_words = [w for w in words if re.match(regex, w, re.IGNORECASE)]\n",
    "    \n",
    "    print(f\"Found {len(matching_words)} matches\")\n",
    "    letter_frequencies = {x: 0 for x in map(chr, range(97, 123))}\n",
    "    for word in matching_words:\n",
    "        s = set(word)\n",
    "        for c in s:\n",
    "            letter_frequencies[c] = letter_frequencies.get(c,0) + 1\n",
    "    letter_frequencies = {k:v for k,v in letter_frequencies.items() if v > 0 and k not in known_letters}\n",
    "    letter_freq_list = list(letter_frequencies.items())\n",
    "    letter_freq_list.sort(key = lambda f: f[1], reverse = True)\n",
    "       \n",
    "    if (use_wordfreqs):\n",
    "        l = []\n",
    "        for w in matching_words:\n",
    "            l.append((w,wf.word_frequency(w, 'en')))\n",
    "        l.sort(key = lambda f : f[1], reverse = True)\n",
    "        l = l[:limit]\n",
    "        for i in l:\n",
    "            print(f\"{i[0]}|{i[1]}\")\n",
    "        \n",
    "    else:     \n",
    "        for w in matching_words:\n",
    "            print(w)\n",
    "    print(\"Most common letters:\")\n",
    "    for k in letter_freq_list[:10]:\n",
    "        print(f\"{k[0]} has hits in {k[1]} words\")\n"
   ]
  },
  {
   "cell_type": "markdown",
   "id": "8ef37551",
   "metadata": {},
   "source": [
    "### Testing partial guesses\n",
    "Pass in an array of strings representing guesses. Format string is as above, and the guesser will combine these guesses to narrow down the word list as much as possible.\n"
   ]
  },
  {
   "cell_type": "code",
   "execution_count": 20,
   "id": "48589acf",
   "metadata": {
    "scrolled": true
   },
   "outputs": [
    {
     "name": "stdout",
     "output_type": "stream",
     "text": [
      "['s', 's', 'h']\n",
      "Found 112 matches\n",
      "shark|1.26e-05\n",
      "shady|5.13e-06\n",
      "shaky|2.82e-06\n",
      "shack|2.69e-06\n",
      "shard|1e-06\n",
      "shaka|4.27e-07\n",
      "shara|1.51e-07\n",
      "shabu|1.26e-07\n",
      "shama|1.1e-07\n",
      "shado|9.33e-08\n",
      "shart|9.12e-08\n",
      "shaar|7.24e-08\n",
      "shada|7.08e-08\n",
      "shaku|6.17e-08\n",
      "shaba|5.89e-08\n",
      "shaam|4.9e-08\n",
      "shako|4.9e-08\n",
      "shatt|4.79e-08\n",
      "shaya|4.37e-08\n",
      "shatz|3.72e-08\n",
      "shaab|3.63e-08\n",
      "shaco|3.39e-08\n",
      "shawa|2.82e-08\n",
      "shamy|2.69e-08\n",
      "shaub|2.45e-08\n",
      "Most common letters:\n",
      "a has hits in 112 words\n",
      "h has hits in 112 words\n",
      "s has hits in 112 words\n",
      "y has hits in 17 words\n",
      "d has hits in 16 words\n",
      "k has hits in 16 words\n",
      "t has hits in 16 words\n",
      "w has hits in 15 words\n",
      "r has hits in 14 words\n",
      "z has hits in 14 words\n"
     ]
    }
   ],
   "source": [
    "test_v2(\"____s|peni\", \"__Ash|fl\")"
   ]
  },
  {
   "cell_type": "markdown",
   "id": "9fb8665c",
   "metadata": {},
   "source": [
    "Analyze the word list for figuring out the most common letters"
   ]
  },
  {
   "cell_type": "code",
   "execution_count": 18,
   "id": "703fed70",
   "metadata": {},
   "outputs": [
    {
     "name": "stdout",
     "output_type": "stream",
     "text": [
      "[('a', 57502), ('e', 44130), ('i', 40525), ('o', 38138), ('n', 30182), ('r', 30155), ('s', 27332), ('l', 26545), ('t', 24430), ('u', 23829), ('y', 23781), ('m', 21212), ('h', 21066), ('d', 19182), ('k', 17237), ('b', 17095), ('g', 14838), ('c', 14752), ('p', 13939), ('f', 13674), ('w', 11536), ('z', 10403), ('j', 8506), ('v', 6992), ('x', 4105), ('q', 2358)]\n"
     ]
    }
   ],
   "source": [
    "letter_frequencies = {x: 0 for x in map(chr, range(97, 123))}\n",
    "for word in words:\n",
    "    s = set(word)\n",
    "    for c in s:\n",
    "        letter_frequencies[c] = letter_frequencies.get(c, 0) + 1\n",
    "letter_frequencies = {k:v for k,v in letter_frequencies.items() if v > 0}\n",
    "letter_freq_list = list(letter_frequencies.items())\n",
    "letter_freq_list.sort(key = lambda f: f[1], reverse = True)\n",
    "print(letter_freq_list)"
   ]
  },
  {
   "cell_type": "code",
   "execution_count": null,
   "id": "0acaf26c",
   "metadata": {},
   "outputs": [],
   "source": []
  }
 ],
 "metadata": {
  "celltoolbar": "Edit Metadata",
  "kernelspec": {
   "display_name": "Python 3 (ipykernel)",
   "language": "python",
   "name": "python3"
  },
  "language_info": {
   "codemirror_mode": {
    "name": "ipython",
    "version": 3
   },
   "file_extension": ".py",
   "mimetype": "text/x-python",
   "name": "python",
   "nbconvert_exporter": "python",
   "pygments_lexer": "ipython3",
   "version": "3.9.0"
  }
 },
 "nbformat": 4,
 "nbformat_minor": 5
}
