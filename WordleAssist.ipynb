{
 "cells": [
  {
   "cell_type": "markdown",
   "id": "703014a0",
   "metadata": {},
   "source": [
    "# WordleAssist"
   ]
  },
  {
   "cell_type": "code",
   "execution_count": 32,
   "id": "8c11ebb4",
   "metadata": {},
   "outputs": [],
   "source": [
    "# imports\n",
    "import re\n",
    "from urllib import request\n",
    "try:\n",
    "  import wordfreq as wf\n",
    "except:\n",
    "  wf = None\n",
    "finally:\n",
    "  use_wordfreqs = wf is not None"
   ]
  },
  {
   "cell_type": "code",
   "execution_count": 15,
   "id": "7403e319",
   "metadata": {},
   "outputs": [],
   "source": [
    "# setup\n",
    "url = \"https://raw.githubusercontent.com/dwyl/english-words/master/words_alpha.txt\"\n",
    "s = \"\"\n",
    "words = []\n",
    "with request.urlopen(url) as f:\n",
    "    s = f.read()\n",
    "    words = [word.decode(\"utf-8\") for word in s.splitlines() if len(word) == 5]"
   ]
  },
  {
   "cell_type": "code",
   "execution_count": 66,
   "id": "edbe503a",
   "metadata": {
    "scrolled": true,
    "tags": [
     "output_scroll"
    ]
   },
   "outputs": [],
   "source": [
    "# build a regex\n",
    "def build_regex(input_pattern):\n",
    "    partial_pattern, exclude_chars = input_pattern.split('|')\n",
    "    exclude_chars = \"\".join([e for e in exclude_chars])\n",
    "    correct_chars = \"\".join([p for p in partial_pattern if p >= 'A' and p <= 'Z'])\n",
    "    pattern = \"^\"\n",
    "    \n",
    "    partial_pattern_partial_chars = [p for p in partial_pattern if p >= 'a' and p <= 'z']\n",
    "    if (len(partial_pattern_partial_chars) > 0):\n",
    "        partial_matches = \"\".join(partial_pattern_partial_chars)\n",
    "        pattern += (f\"(?=.*[{partial_matches}])\")\n",
    "        \n",
    "    for c in partial_pattern:\n",
    "        # this can't be an excluded character or a correct character\n",
    "        if c == '_':\n",
    "            pattern += f\"[^{exclude_chars}{correct_chars}]\"\n",
    "        # correct char in the correct position\n",
    "        elif c >= 'A' and c <= 'Z':\n",
    "            pattern += c.lower()\n",
    "        # this position cannot be the specified character or an excluded character or a correct one\n",
    "        elif c >= 'a' and c <= 'z':\n",
    "            pattern += f\"[^{correct_chars}{exclude_chars}{c}]\"\n",
    "    return pattern\n",
    "\n",
    "\n",
    "# test the pattern\n",
    "def test(pattern, limit = 25):\n",
    "    regex = build_regex(pattern)\n",
    "    print(regex)\n",
    "    matching_words = [w for w in words if re.match(regex, w)]\n",
    "    if (use_wordfreqs):\n",
    "        l = []\n",
    "        for w in matching_words:\n",
    "            l.append((w,wf.word_frequency(w, 'en')))\n",
    "        l.sort(key = lambda f : f[1], reverse = True)\n",
    "        l = l[:limit]\n",
    "        for i in l:\n",
    "            print(f\"{i[0]}|{i[1]}\")\n",
    "    else:     \n",
    "        for w in matching_words:\n",
    "            print(w)\n"
   ]
  },
  {
   "cell_type": "markdown",
   "id": "9f91f0ed",
   "metadata": {},
   "source": [
    "Test format string\n",
    "- Underscores are unknown characters\n",
    "- Use lower case chars for right letter + wrong position (yellow)\n",
    "- Use upper case for right letter in the right position (green)"
   ]
  },
  {
   "cell_type": "code",
   "execution_count": 62,
   "id": "8f229317",
   "metadata": {},
   "outputs": [
    {
     "name": "stdout",
     "output_type": "stream",
     "text": [
      "^(?=.*[r])[^paty][^paty][^patyr][^paty][^paty]\n",
      "where|0.001\n",
      "never|0.000813\n",
      "under|0.000537\n",
      "order|0.000309\n",
      "hours|0.000251\n",
      "wrong|0.000245\n",
      "bring|0.000186\n",
      "round|0.000138\n",
      "drive|0.000135\n",
      "green|0.000135\n",
      "lower|0.000129\n",
      "cover|0.00012\n",
      "rules|0.000115\n",
      "offer|0.000112\n",
      "river|0.000107\n",
      "brown|0.000102\n",
      "cross|0.0001\n",
      "floor|8.71e-05\n",
      "older|8.32e-05\n",
      "color|8.13e-05\n",
      "drink|7.94e-05\n",
      "crime|7.76e-05\n",
      "broke|7.08e-05\n",
      "fresh|6.76e-05\n",
      "owner|6.76e-05\n"
     ]
    }
   ],
   "source": [
    "test(\"__r__|paty\")"
   ]
  },
  {
   "cell_type": "code",
   "execution_count": 67,
   "id": "48589acf",
   "metadata": {},
   "outputs": [
    {
     "name": "stdout",
     "output_type": "stream",
     "text": [
      "^dri[^vepatyDRI][^vepatyDRI]\n",
      "drink|7.94e-05\n",
      "drill|1.23e-05\n",
      "dribs|3.47e-08\n",
      "drinn|0.0\n",
      "drisk|0.0\n"
     ]
    }
   ],
   "source": [
    "test(\"DRI__|vepaty\")"
   ]
  },
  {
   "cell_type": "code",
   "execution_count": null,
   "id": "8e8a2c50",
   "metadata": {},
   "outputs": [],
   "source": []
  }
 ],
 "metadata": {
  "celltoolbar": "Edit Metadata",
  "kernelspec": {
   "display_name": "local-env",
   "language": "python",
   "name": "local-env"
  },
  "language_info": {
   "codemirror_mode": {
    "name": "ipython",
    "version": 3
   },
   "file_extension": ".py",
   "mimetype": "text/x-python",
   "name": "python",
   "nbconvert_exporter": "python",
   "pygments_lexer": "ipython3",
   "version": "3.10.0"
  }
 },
 "nbformat": 4,
 "nbformat_minor": 5
}
